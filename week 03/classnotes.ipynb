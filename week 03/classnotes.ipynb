{
 "cells": [
  {
   "cell_type": "markdown",
   "metadata": {},
   "source": [
    "![](../images/cs101.png)\n",
    "***\n",
    "\n",
    "# Week 03: Class Notes\n",
    "\n",
    "- This is the code samples that we did together in class.\n",
    "- Please copy the small code samples and try them out yourself.\n",
    "- This is not a replacement for doing the CodeCademy lessons.\n",
    "\n",
    "## strings"
   ]
  },
  {
   "cell_type": "code",
   "execution_count": 2,
   "metadata": {},
   "outputs": [
    {
     "name": "stdout",
     "output_type": "stream",
     "text": [
      "\"hello\" world\n",
      "'hello' world\n",
      "John John\n",
      "my name is John\n",
      "John \n",
      " John\n",
      "John Brown\n"
     ]
    }
   ],
   "source": [
    "print('\"hello\" world')\n",
    "print(\"'hello' world\")\n",
    "\n",
    "name = 'John'\n",
    "print(name, name)\n",
    "print('my name is', name)\n",
    "print(name, '\\n', name)\n",
    "\n",
    "given = 'John'\n",
    "surname = 'Brown'\n",
    "print(given + \" \" + surname)"
   ]
  },
  {
   "cell_type": "markdown",
   "metadata": {},
   "source": [
    "## function str()"
   ]
  },
  {
   "cell_type": "code",
   "execution_count": 3,
   "metadata": {},
   "outputs": [
    {
     "name": "stdout",
     "output_type": "stream",
     "text": [
      "I am the age of 22\n",
      "I am the age of 22\n",
      "John Brown, is 22 old\n",
      "John Brown , is 22 old\n",
      "John Brown, is 22 old\n"
     ]
    }
   ],
   "source": [
    "age = 22\n",
    "print('I am the age of ' + str(age))\n",
    "print('I am the age of', age)\n",
    "\n",
    "given = 'John'\n",
    "surname = 'Brown'\n",
    "print(given + ' ' + surname + ', is ' + str(age) + ' old')\n",
    "print(given, surname, ', is', age, 'old')\n",
    "\n",
    "outputLine = given + ' ' + surname + ', is ' + str(age) + ' old'\n",
    "print(outputLine)"
   ]
  },
  {
   "cell_type": "markdown",
   "metadata": {},
   "source": [
    "## Function int()"
   ]
  },
  {
   "cell_type": "code",
   "execution_count": 4,
   "metadata": {},
   "outputs": [
    {
     "name": "stdout",
     "output_type": "stream",
     "text": [
      "difference is age is: 33\n",
      "difference is age is: 33\n"
     ]
    }
   ],
   "source": [
    "age1 = '12'\n",
    "age2 = '45'\n",
    "age1int = int(age1)\n",
    "age2int = int(age2)\n",
    "difference = age2int - age1int\n",
    "\n",
    "print('difference is age is: ' + str(difference))\n",
    "print('difference is age is:', difference)"
   ]
  },
  {
   "cell_type": "markdown",
   "metadata": {},
   "source": [
    "## Function len()"
   ]
  },
  {
   "cell_type": "code",
   "execution_count": 5,
   "metadata": {},
   "outputs": [
    {
     "name": "stdout",
     "output_type": "stream",
     "text": [
      "lenght of abcdefghijklmnopqrstuvwxyz is 26\n",
      "lenght of abcdefghijklmnopqrstuvwxyz is 26\n",
      "Lenght of name is 4\n",
      "Lenght of name is 6\n"
     ]
    }
   ],
   "source": [
    "alphabet = 'abcdefghijklmnopqrstuvwxyz'\n",
    "print('lenght of ' + alphabet + ' is ' + str(len(alphabet)))\n",
    "print('lenght of', alphabet, 'is', len(alphabet))\n",
    "\n",
    "name = 'John'\n",
    "print('Lenght of name is', len(name))\n",
    "\n",
    "name = ' John '\n",
    "print('Lenght of name is', len(name))"
   ]
  },
  {
   "cell_type": "markdown",
   "metadata": {},
   "source": [
    "## Function upper()"
   ]
  },
  {
   "cell_type": "code",
   "execution_count": 6,
   "metadata": {},
   "outputs": [
    {
     "name": "stdout",
     "output_type": "stream",
     "text": [
      "University is BYUI\n"
     ]
    }
   ],
   "source": [
    "university = 'byui'\n",
    "print('University is', university.upper())"
   ]
  },
  {
   "cell_type": "markdown",
   "metadata": {},
   "source": [
    "## Function lower()"
   ]
  },
  {
   "cell_type": "code",
   "execution_count": 7,
   "metadata": {},
   "outputs": [
    {
     "name": "stdout",
     "output_type": "stream",
     "text": [
      "Display : HI THERE as hi there\n"
     ]
    }
   ],
   "source": [
    "uppercase = 'HI THERE'\n",
    "print('Display : ' + uppercase + ' as ' + uppercase.lower())"
   ]
  },
  {
   "cell_type": "markdown",
   "metadata": {},
   "source": [
    "## Formating (version 2 and 3)\n",
    "\n",
    "```python\n",
    "# Version 2 of formating a string\n",
    "# print 'hello %s' % ('John')\n",
    "```"
   ]
  },
  {
   "cell_type": "code",
   "execution_count": 8,
   "metadata": {},
   "outputs": [
    {
     "name": "stdout",
     "output_type": "stream",
     "text": [
      "hello John, brown\n",
      "Hi, My name is John Brown, my age is 22\n",
      "Hi, My name is Brown John, my age is 22, 22\n",
      "ABBA\n"
     ]
    }
   ],
   "source": [
    "print('hello {}, {}'.format('John', 'brown'))\n",
    "\n",
    "given = 'John'\n",
    "surname = 'Brown'\n",
    "age = 22\n",
    "print('Hi, My name is {} {}, my age is {}'.format(given, surname, age))\n",
    "print('Hi, My name is {1} {0}, my age is {2}, {2}'.format(given, surname, age))\n",
    "# {0} this is 'A'\n",
    "print('{0}{1}{1}{0}'.format('A', 'B'))\n",
    "\n",
    "# Other examples of using format()\n",
    "# '{0}, {1}, {2}'.format('a', 'b', 'c')\n",
    "# '{}, {}, {}'.format('a', 'b', 'c')\n",
    "# '{2}, {1}, {0}'.format('a', 'b', 'c')\n",
    "# '{0}{1}{0}'.format('abra', 'cad') \n"
   ]
  },
  {
   "cell_type": "markdown",
   "metadata": {},
   "source": [
    "# Extra functions\n",
    "\n",
    "## title()"
   ]
  },
  {
   "cell_type": "code",
   "execution_count": 9,
   "metadata": {},
   "outputs": [
    {
     "name": "stdout",
     "output_type": "stream",
     "text": [
      "Byu - Idaho\n"
     ]
    }
   ],
   "source": [
    "univ = 'byu - Idaho'\n",
    "print(univ.title())"
   ]
  },
  {
   "cell_type": "markdown",
   "metadata": {},
   "source": [
    "## Multiply a string"
   ]
  },
  {
   "cell_type": "code",
   "execution_count": 11,
   "metadata": {},
   "outputs": [
    {
     "name": "stdout",
     "output_type": "stream",
     "text": [
      "XXXXXXXXXX\n",
      "X        X\n",
      "X        X\n",
      "X        X\n",
      "X        X\n",
      "X        X\n",
      "X        X\n",
      "X        X\n",
      "X        X\n",
      "XXXXXXXXXX\n"
     ]
    }
   ],
   "source": [
    "print('X' * 10)\n",
    "print('X', ' ' * 6, 'X')\n",
    "print('X', ' ' * 6, 'X')\n",
    "print('X', ' ' * 6, 'X')\n",
    "print('X', ' ' * 6, 'X')\n",
    "print('X', ' ' * 6, 'X')\n",
    "print('X', ' ' * 6, 'X')\n",
    "print('X', ' ' * 6, 'X')\n",
    "print('X', ' ' * 6, 'X')\n",
    "print('X' * 10)\n"
   ]
  }
 ],
 "metadata": {
  "kernelspec": {
   "display_name": "Python 3",
   "language": "python",
   "name": "python3"
  },
  "language_info": {
   "codemirror_mode": {
    "name": "ipython",
    "version": 3
   },
   "file_extension": ".py",
   "mimetype": "text/x-python",
   "name": "python",
   "nbconvert_exporter": "python",
   "pygments_lexer": "ipython3",
   "version": "3.6.5"
  }
 },
 "nbformat": 4,
 "nbformat_minor": 2
}
