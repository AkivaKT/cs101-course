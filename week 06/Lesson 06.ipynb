{
 "cells": [
  {
   "cell_type": "markdown",
   "metadata": {},
   "source": [
    "![](../images/cs101.png)\n",
    "***\n",
    "\n",
    "# 06 - Lesson\n",
    "\n",
    "## Topic of the Week\n",
    "\n",
    "- Review\n",
    "- Lists\n",
    "- Dictionaries (Optional)"
   ]
  },
  {
   "cell_type": "markdown",
   "metadata": {},
   "source": [
    "***\n",
    "# Review\n",
    "\n",
    "## Variables\n",
    "\n",
    "There are three different types of variables that we will be using the most in this course:\n",
    "\n",
    "- int (Whole numbers)\n",
    "- float (Real numbers)\n",
    "- string (words and sentences)\n",
    "\n",
    "\n",
    "## print()\n",
    "\n",
    "- Used to display output to the screen.\n",
    "- format() can be used to help format the output.\n",
    "\n",
    "\n",
    "## Booleans\n",
    "\n",
    "- True or False\n",
    "- True converted to an integer is 1\n",
    "- False converted to an integer is 0\n",
    "\n",
    "\n",
    "## Boolean Conditions\n",
    "\n",
    "- Math or logic that evaluates to either True or False\n",
    "- Math -> <, >, ==, <=, >=, !=\n",
    "- Logic -> and, or, not\n",
    "- What is the difference between = and ==\n",
    "\n",
    "\n",
    "## If statements\n",
    "\n",
    "- used to test a boolean condition.\n",
    "- Allows the program to make a decision.\n",
    "\n",
    "\n",
    "## Functions\n",
    "\n",
    "- Allows the programmer to group code together.\n",
    "- Allows you to break programs into smaller sections.\n",
    "- Can be called over and over.\n"
   ]
  },
  {
   "cell_type": "markdown",
   "metadata": {},
   "source": [
    "***\n",
    "# Lists\n",
    "\n",
    "\n",
    "Lists are very useful in Python.  They allow the programmer to keep track of a group of values.  They can contain any data type and other lists.\n",
    "\n",
    "## Empty List\n",
    "\n",
    "There are a number of methods for creating a list.  The most basic is the empty list.  This is just empty square brackets.\n",
    "\n",
    "```python\n",
    "x = []\n",
    "```\n",
    "\n",
    "## Creating non-empty lists\n",
    "\n",
    "The following are examples of lists.\n",
    "\n"
   ]
  },
  {
   "cell_type": "code",
   "execution_count": null,
   "metadata": {},
   "outputs": [],
   "source": [
    "names = ['John', 'Fred', 'Mary']\n",
    "scores = [98.3, 87.0, 99, 100]\n",
    "weeklyRainfall = [0.23, 0.34, 0.0, 0.43]\n",
    "stuff = ['Happy', True, -34.45, 'Shoes', False]"
   ]
  },
  {
   "cell_type": "markdown",
   "metadata": {},
   "source": [
    "## Indexing lists\n",
    "\n",
    "In computer science, we always count items in a list, or an array, starting with zero.\n",
    "\n",
    "```python\n",
    "            0       1       2\n",
    "names = ['John', 'Fred', 'Mary']\n",
    "        \n",
    "```\n",
    "\n",
    "To access any item in a list, use brackets with the name of the list and an index.  For example:\n",
    "\n",
    "```python\n",
    "print(names[1]) displays 'Fred'\n",
    "print(names[2]) displays 'Mary'\n",
    "print(names[3]) displays a python error\n",
    "```"
   ]
  },
  {
   "cell_type": "markdown",
   "metadata": {},
   "source": [
    "## Adding to a List\n",
    "\n",
    "You can use the append() function to append items to an existing list.\n",
    "\n",
    "```python\n",
    "names = []\n",
    "names.append('John')\n",
    "names.append('Fred')\n",
    "names.append(True)\n",
    "```"
   ]
  },
  {
   "cell_type": "markdown",
   "metadata": {},
   "source": [
    "## Changing items in a List\n",
    "\n",
    "You can change any item in an existing list in the same method you use to access them."
   ]
  },
  {
   "cell_type": "code",
   "execution_count": null,
   "metadata": {},
   "outputs": [],
   "source": [
    "values = [1, 2, 3, 4]\n",
    "print('values are:        ', values)\n",
    "values[2] = 99\n",
    "print('Changed values are:', values)\n"
   ]
  },
  {
   "cell_type": "markdown",
   "metadata": {},
   "source": [
    "## Coding Example\n",
    "\n",
    "Lets look at creating random values in Python.  The following code will allow you to do this:\n"
   ]
  },
  {
   "cell_type": "code",
   "execution_count": null,
   "metadata": {},
   "outputs": [],
   "source": [
    "# import the random library\n",
    "import random\n",
    "\n",
    "# Display a random value between 0 and 99\n",
    "print(random.randint(0, 100))\n"
   ]
  },
  {
   "cell_type": "code",
   "execution_count": null,
   "metadata": {},
   "outputs": [],
   "source": [
    "## TODO - create a small program to roll a dice 5 times and keep track of the rolls"
   ]
  },
  {
   "cell_type": "code",
   "execution_count": null,
   "metadata": {},
   "outputs": [],
   "source": [
    "## TODO - Create a function that totals the integers in a list and returns that total"
   ]
  }
 ],
 "metadata": {
  "kernelspec": {
   "display_name": "Python 3",
   "language": "python",
   "name": "python3"
  },
  "language_info": {
   "codemirror_mode": {
    "name": "ipython",
    "version": 3
   },
   "file_extension": ".py",
   "mimetype": "text/x-python",
   "name": "python",
   "nbconvert_exporter": "python",
   "pygments_lexer": "ipython3",
   "version": "3.6.5"
  }
 },
 "nbformat": 4,
 "nbformat_minor": 2
}
