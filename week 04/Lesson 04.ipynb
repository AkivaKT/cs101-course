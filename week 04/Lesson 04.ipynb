{
 "cells": [
  {
   "cell_type": "markdown",
   "metadata": {},
   "source": [
    "![](../images/cs101.png)\n",
    "***\n",
    "\n",
    "# 04 - Lesson\n",
    "\n",
    "## Topic of the Week\n",
    "\n",
    "- Boolean Values and Expressions.\n",
    "- if statements.\n",
    "- Link to Python 3 documention on [Boolean Variables](https://docs.python.org/3/library/stdtypes.html)\n",
    "- Link to [Supplemental Information](https://runestone.academy/runestone/static/thinkcspy/Selection/BooleanValuesandBooleanExpressions.html)"
   ]
  },
  {
   "cell_type": "markdown",
   "metadata": {},
   "source": [
    "# Boolean Values\n",
    "\n",
    "There are three different main variable types in Python that we are learning in this course.\n",
    "\n",
    "```text\n",
    "integer    These are whole numbers (ie., 10, -93, 23333)\n",
    "real       These are real or floating point numbers (ie., 10.5, -93.33, 23333.2234)\n",
    "boolean    These are variables that are either True or False\n",
    "```"
   ]
  },
  {
   "cell_type": "markdown",
   "metadata": {},
   "source": [
    "# Boolean Expressions\n",
    "\n",
    "\n",
    "## Operators\n",
    "\n",
    "Operators allow you the programmer to compare variables in your program.  Here are some of the more common operators for comparing.\n",
    "\n",
    "```\n",
    "x == y               # x equal to y \n",
    "x != y               # x is not equal to y\n",
    "x > y                # x is greater than y\n",
    "x < y                # x is less than y\n",
    "x >= y               # x is greater than or equal to y\n",
    "x <= y               # x is less than or equal to y\n",
    "```\n",
    "\n",
    "### Operators \"=\" VS \"==\"\n",
    "\n",
    "**= Operator**\n",
    "\n",
    "The assignment operator is used to assign a value to a variable.  There is always two sides to an assignment operator:\n",
    "\n",
    "> Left Hand Side (LHS) = Right Hand Side (RHS)\n",
    "\n",
    "The RHS can be a single value or a very long expression.  Python will evaluate the RHS into one value and that value is assigned to the LHS\n",
    "\n",
    "```python\n",
    "Examples of assignment operator\n",
    "\n",
    "x = 9\n",
    "age = 23\n",
    "y = (x + 4)\n",
    "```\n",
    "\n",
    "**== Operator**\n",
    "\n",
    "> Although these operations are probably familiar to you, the Python symbols are different from the mathematical symbols. A common error is to use a single equal sign (**=**) instead of a double equal sign (**==**). Remember that = is an assignment operator and == is a comparison operator. Also, there is no such thing as **=<** or **=>**.\n",
    "\n",
    "> Note too that an equality test is symmetric, but assignment is not. For example, if a == 7 then 7 == a. But in Python, the statement a = 7 is legal and 7 = a is not. (Can you explain why?)\n",
    "\n",
    "```python\n",
    "Examples of is equal operator\n",
    "\n",
    "old = (age == 100)\n",
    "startClass = (time == 1130)\n",
    "clapHands = (happy == True and youKnowIt == True)\n",
    "```\n"
   ]
  },
  {
   "cell_type": "markdown",
   "metadata": {},
   "source": [
    "## Practice Boolean Expressions\n",
    "\n",
    "Given the following code, what will each print() statement display?  (either True or False)"
   ]
  },
  {
   "cell_type": "code",
   "execution_count": null,
   "metadata": {},
   "outputs": [],
   "source": [
    "a = 6\n",
    "b = 7\n",
    "c = 42\n",
    "\n",
    "# print(1, a == 6)\n",
    "# print(2, a == 7)\n",
    "# print(3, a == 6 and b == 7)\n",
    "# print(4, a == 7 and b == 7)\n",
    "# print(5, not a == 7 and b == 7)\n",
    "\n",
    "# print(6, a == 7 or b == 7)\n",
    "# print(7, a == 7 or b == 6)\n",
    "# print(8, not (a == 7 and b == 6))\n",
    "# print(9, not a == 7 and b == 6)\n",
    "# print(10, a < 6)\n",
    "\n",
    "# print(11, b != 7)\n",
    "# print(12, b != c)\n",
    "# print(13, a == 6 and b > 0)\n",
    "# print(14, a == b or b == c or a == c or True)\n",
    "# print(15, a == 6 and False)\n",
    "\n",
    "# print(16, a * b == c)\n"
   ]
  },
  {
   "cell_type": "markdown",
   "metadata": {},
   "source": [
    "# if Statement\n",
    "\n",
    "An if statement is used in a program to make a decision.  The statement uses a boolean expression where the boolean expression evaluates to either True or False.  An if statement is only concerned that the boolean expression is True.\n",
    "\n",
    "Format of an if statement\n",
    "\n",
    "```python\n",
    "if (boolean expression):\n",
    "    do something because the boolean expression is True\n",
    "else:\n",
    "    do something because the boolean expression is False\n",
    "    the 'else' part of an if is optional\n",
    "    \n",
    "```    "
   ]
  },
  {
   "cell_type": "markdown",
   "metadata": {},
   "source": [
    "## Practice IF statements"
   ]
  },
  {
   "cell_type": "code",
   "execution_count": null,
   "metadata": {},
   "outputs": [],
   "source": [
    "x = 9\n",
    "if (x == 9):\n",
    "    print('x is 9')\n",
    "else:\n",
    "    print('x is not 9')"
   ]
  },
  {
   "cell_type": "code",
   "execution_count": null,
   "metadata": {},
   "outputs": [],
   "source": [
    "sunny = True\n",
    "\n",
    "if (sunny):\n",
    "    print(\"it's sunny today (1st if)\")\n",
    "\n",
    "if (sunny == True):\n",
    "    print(\"it's sunny today (2nd if)\")\n",
    "\n",
    "if (sunny != False):\n",
    "    print(\"it's sunny today (3rd if)\")\n",
    "    "
   ]
  },
  {
   "cell_type": "code",
   "execution_count": null,
   "metadata": {},
   "outputs": [],
   "source": [
    "age = int(input('What is your age: '))\n",
    "if (age > 21):\n",
    "    print('You can vote')\n",
    "else:\n",
    "    print('You need to wait', 21 - age, 'more years until you can vote')"
   ]
  },
  {
   "cell_type": "code",
   "execution_count": null,
   "metadata": {},
   "outputs": [],
   "source": [
    "grade = int(input('What is your grade: '))\n",
    "\n",
    "# TODO - lets write code to display the letter grade\n"
   ]
  },
  {
   "cell_type": "code",
   "execution_count": null,
   "metadata": {},
   "outputs": [],
   "source": [
    "name = input(\"What is your name? \")\n",
    "password = input(\"What is the password? \")\n",
    "\n",
    "if name == \"Josh\" and password == \"Friday\":\n",
    "    print(\"Welcome Josh\")\n",
    "elif name == \"Fred\" and password == \"Rock\":\n",
    "    print(\"Welcome Fred\")\n",
    "else:\n",
    "    print(\"I don't know you.\")"
   ]
  }
 ],
 "metadata": {
  "kernelspec": {
   "display_name": "Python 3",
   "language": "python",
   "name": "python3"
  },
  "language_info": {
   "codemirror_mode": {
    "name": "ipython",
    "version": 3
   },
   "file_extension": ".py",
   "mimetype": "text/x-python",
   "name": "python",
   "nbconvert_exporter": "python",
   "pygments_lexer": "ipython3",
   "version": "3.6.5"
  }
 },
 "nbformat": 4,
 "nbformat_minor": 2
}
